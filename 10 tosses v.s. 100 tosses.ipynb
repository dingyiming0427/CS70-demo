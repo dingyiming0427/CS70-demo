{
 "cells": [
  {
   "cell_type": "code",
   "execution_count": 19,
   "metadata": {},
   "outputs": [],
   "source": [
    "import functools\n",
    "\n",
    "@functools.lru_cache(maxsize=None)\n",
    "def binom(n, k):\n",
    "    if n == k or k == 0:\n",
    "        return 1\n",
    "    return binom(n-1, k) + binom(n-1, k-1)\n",
    "\n",
    "def binomial(n, p):\n",
    "    def f(k):\n",
    "        return binom(n, k) * (p**k) * (1-p)**(n-k)\n",
    "    return f\n",
    "\n",
    "ten = binomial(10, 0.5)\n",
    "hundred = binomial(100, 0.5)"
   ]
  },
  {
   "cell_type": "markdown",
   "metadata": {},
   "source": [
    "# (a)"
   ]
  },
  {
   "cell_type": "code",
   "execution_count": 13,
   "metadata": {},
   "outputs": [
    {
     "data": {
      "text/plain": [
       "'Probability of winning the prize with 10 tosses is 0.171875, with 100 toses is 0.017600'"
      ]
     },
     "execution_count": 13,
     "metadata": {},
     "output_type": "execute_result"
    }
   ],
   "source": [
    "\"Probability of winning the prize with 10 tosses is %f, with 100 toses is %f\" % \\\n",
    "(sum(ten(k) for k in range(7, 11)), sum(hundred(k) for k in range(61, 101)))"
   ]
  },
  {
   "cell_type": "markdown",
   "metadata": {},
   "source": [
    "# (b)"
   ]
  },
  {
   "cell_type": "code",
   "execution_count": 14,
   "metadata": {},
   "outputs": [
    {
     "data": {
      "text/plain": [
       "'Probability of winning the prize with 10 tosses is 0.623047, with 100 toses is 0.971556'"
      ]
     },
     "execution_count": 14,
     "metadata": {},
     "output_type": "execute_result"
    }
   ],
   "source": [
    "\"Probability of winning the prize with 10 tosses is %f, with 100 toses is %f\" % \\\n",
    "(sum(ten(k) for k in range(5, 11)), sum(hundred(k) for k in range(41, 101)))"
   ]
  },
  {
   "cell_type": "markdown",
   "metadata": {},
   "source": [
    "# (c)"
   ]
  },
  {
   "cell_type": "code",
   "execution_count": 15,
   "metadata": {},
   "outputs": [
    {
     "data": {
      "text/plain": [
       "'Probability of winning the prize with 10 tosses is 0.246094, with 100 toses is 0.953956'"
      ]
     },
     "execution_count": 15,
     "metadata": {},
     "output_type": "execute_result"
    }
   ],
   "source": [
    "\"Probability of winning the prize with 10 tosses is %f, with 100 toses is %f\" % \\\n",
    "(sum(ten(k) for k in range(5, 6)), sum(hundred(k) for k in range(41, 61)))"
   ]
  },
  {
   "cell_type": "markdown",
   "metadata": {},
   "source": [
    "# (d)"
   ]
  },
  {
   "cell_type": "code",
   "execution_count": 16,
   "metadata": {},
   "outputs": [
    {
     "data": {
      "text/plain": [
       "'Probability of winning the prize with 10 tosses is 0.246094, with 100 toses is 0.079589'"
      ]
     },
     "execution_count": 16,
     "metadata": {},
     "output_type": "execute_result"
    }
   ],
   "source": [
    "\"Probability of winning the prize with 10 tosses is %f, with 100 toses is %f\" % \\\n",
    "(ten(5), hundred(50))"
   ]
  }
 ],
 "metadata": {
  "kernelspec": {
   "display_name": "Python (general)",
   "language": "python",
   "name": "general"
  },
  "language_info": {
   "codemirror_mode": {
    "name": "ipython",
    "version": 3
   },
   "file_extension": ".py",
   "mimetype": "text/x-python",
   "name": "python",
   "nbconvert_exporter": "python",
   "pygments_lexer": "ipython3",
   "version": "3.6.4"
  },
  "widgets": {
   "state": {},
   "version": "1.1.2"
  }
 },
 "nbformat": 4,
 "nbformat_minor": 2
}
